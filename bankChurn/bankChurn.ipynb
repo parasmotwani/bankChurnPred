{
 "cells": [
  {
   "cell_type": "code",
   "execution_count": null,
   "id": "7da941fa",
   "metadata": {},
   "outputs": [],
   "source": [
    "import numpy as np\n",
    "import pandas as pd\n",
    "from sklearn.model_selection import GridSearchCV, cross_validate,validation_curve\n",
    "from lightgbm import LGBMClassifier\n",
    "from imblearn.over_sampling import SMOTE\n",
    "import matplotlib.pyplot as plt\n",
    "import seaborn as sns\n",
    "import warnings\n",
    "from sklearn.exceptions import ConvergenceWarning\n",
    "from sklearn.preprocessing import LabelEncoder\n",
    "from sklearn.metrics import roc_auc_score\n",
    "\n",
    "\n",
    "\n",
    "warnings.simplefilter(action='ignore', category=FutureWarning)\n",
    "warnings.simplefilter(\"ignore\", category=ConvergenceWarning)\n"
   ]
  },
  {
   "cell_type": "markdown",
   "id": "5ca8a014",
   "metadata": {},
   "source": [
    "# EDA\n",
    "(Exploratory Data Analysis (EDA) is a crucial initial step in data science projects. It involves analyzing and visualizing data to understand its key characteristics, uncover patterns, and identify relationships between variables refers to the method of studying and exploring record sets to apprehend their predominant traits, discover patterns, locate outliers, and identify relationships between variables. EDA is normally carried out as a preliminary step before undertaking extra formal statistical analyses or modeling.)"
   ]
  },
  {
   "cell_type": "code",
   "execution_count": null,
   "id": "dbdb9bcd",
   "metadata": {},
   "outputs": [],
   "source": [
    "df = pd.read_csv('Bank Customer Churn Prediction.csv')\n",
    "df.head()"
   ]
  },
  {
   "cell_type": "code",
   "execution_count": null,
   "id": "80910b34",
   "metadata": {},
   "outputs": [],
   "source": [
    "df.info()"
   ]
  },
  {
   "cell_type": "code",
   "execution_count": null,
   "id": "db7c3cb8",
   "metadata": {},
   "outputs": [],
   "source": [
    "df.nunique()"
   ]
  },
  {
   "cell_type": "code",
   "execution_count": null,
   "id": "47b16df6",
   "metadata": {},
   "outputs": [],
   "source": [
    "df.isnull().sum()"
   ]
  },
  {
   "cell_type": "code",
   "execution_count": null,
   "id": "8513f1dc",
   "metadata": {},
   "outputs": [],
   "source": [
    "def grab_col_names(dataframe, cat_th=10, car_th=30):\n",
    "    cat_cols = [col for col in dataframe.columns if dataframe[col].dtypes == \"O\"]\n",
    "    num_but_cat = [col for col in dataframe.columns if dataframe[col].nunique() < cat_th and\n",
    "                   dataframe[col].dtypes != \"O\"]\n",
    "    cat_but_car = [col for col in dataframe.columns if dataframe[col].nunique() > car_th and\n",
    "                   dataframe[col].dtypes == \"O\"]\n",
    "    cat_cols = cat_cols + num_but_cat\n",
    "    cat_cols = [col for col in cat_cols if col not in cat_but_car]\n",
    "\n",
    "    # num_cols\n",
    "    num_cols = [col for col in dataframe.columns if dataframe[col].dtypes not in [\"O\", 'datetime64[ns]']]\n",
    "    num_cols = [col for col in num_cols if col not in num_but_cat]\n",
    "\n",
    "    binary_cols = [col for col in dataframe.columns if\n",
    "                   dataframe[col].dtype not in [int, float] and dataframe[col].nunique() == 2]\n",
    "\n",
    "    print(f\"Observations: {dataframe.shape[0]}\")\n",
    "    print(f\"Variables: {dataframe.shape[1]}\")\n",
    "    print(f'cat_cols: {len(cat_cols)}')\n",
    "    print(f'num_cols: {len(num_cols)}')\n",
    "    print(f'cat_but_car: {len(cat_but_car)}')\n",
    "    print(f'num_but_cat: {len(num_but_cat)}')\n",
    "    print(f'binary_cols: {len(binary_cols)}')\n",
    "\n",
    "    return cat_cols, num_cols, cat_but_car, binary_cols\n",
    "\n",
    "result = grab_col_names(df)\n",
    "cat_cols, num_cols, cat_but_car = result[0], result[1], result[2]"
   ]
  },
  {
   "cell_type": "code",
   "execution_count": null,
   "id": "8215801d",
   "metadata": {},
   "outputs": [],
   "source": [
    "def cat_summary(dataframe, col_names):\n",
    "    for col in col_names:\n",
    "        print(pd.DataFrame({col: dataframe[col].value_counts(),\n",
    "                            \"Ratio\": 100 * dataframe[col].value_counts() / len(dataframe)}))\n",
    "        print(\"##########################################\")\n",
    "cat_summary(df, cat_cols)"
   ]
  },
  {
   "cell_type": "code",
   "execution_count": null,
   "id": "487695a7",
   "metadata": {},
   "outputs": [],
   "source": [
    "def target_summary_with_cat(dataframe, target, categorical_col):\n",
    "    print(pd.DataFrame({\"TARGET_MEAN\": dataframe.groupby(categorical_col)[target].mean()}), end=\"\\n\\n\\n\")\n",
    "\n",
    "for col in cat_cols:\n",
    "    target_summary_with_cat(df, 'churn', col)"
   ]
  },
  {
   "cell_type": "code",
   "execution_count": null,
   "id": "5a21dc5d",
   "metadata": {},
   "outputs": [],
   "source": [
    "def correlation_matrix(df, cols):\n",
    "    fig = plt.gcf()\n",
    "    fig.set_size_inches(10, 8)\n",
    "    plt.xticks(fontsize=10)\n",
    "    plt.yticks(fontsize=10)\n",
    "    fig = sns.heatmap(df[cols].corr(), annot=True, linewidths=0.5, annot_kws={'size': 12}, linecolor='w', cmap='RdBu')\n",
    "    plt.show(block=True)\n",
    "    \n",
    "correlation_matrix(df, num_cols)"
   ]
  },
  {
   "cell_type": "code",
   "execution_count": null,
   "id": "47d4057d",
   "metadata": {},
   "outputs": [],
   "source": [
    "def rare_analyser(dataframe, target, cat_cols):\n",
    "    for col in cat_cols:\n",
    "        print(col, \":\", len(dataframe[col].value_counts()))\n",
    "        print(pd.DataFrame({\"COUNT\": dataframe[col].value_counts(),\n",
    "                            \"RATIO\": dataframe[col].value_counts() / len(dataframe),\n",
    "                            \"TARGET_MEAN\": dataframe.groupby(col)[target].mean()}), end=\"\\n\\n\\n\")\n",
    "\n",
    "rare_analyser(df, 'churn', cat_cols=cat_cols)"
   ]
  },
  {
   "cell_type": "code",
   "execution_count": null,
   "id": "ab385779",
   "metadata": {},
   "outputs": [],
   "source": [
    "fig, ax = plt.subplots(nrows=2, ncols=3, figsize=(15, 10))\n",
    "sns.boxplot(data=df['age'], ax=ax[0][0])\n",
    "sns.boxplot(data=df['tenure'], ax=ax[0][1])\n",
    "sns.boxplot(data=df['estimated_salary'], ax=ax[0][2])\n",
    "sns.boxplot(data=df['balance'], ax=ax[1][0])\n",
    "sns.boxplot(data=df['credit_score'], ax=ax[1][1])"
   ]
  },
  {
   "cell_type": "code",
   "execution_count": null,
   "id": "fb82f755",
   "metadata": {},
   "outputs": [],
   "source": [
    "def plot_numerical_col(dataframe, num_cols, plot_type='hist'):\n",
    "    num_cols_count = len(num_cols)\n",
    "    num_rows = num_cols_count // 3\n",
    "    num_rows += 1 if num_cols_count % 3 != 0 else 0  # Eğer sütun sayısı 3'e tam bölünmüyorsa bir ek satır oluştur.\n",
    "\n",
    "\n",
    "    col_groups = [num_cols[i:i+12] for i in range(0, num_cols_count, 12)]\n",
    "\n",
    "    for group in col_groups:\n",
    "        fig, axes = plt.subplots(num_rows, 3, figsize=(10, 10))\n",
    "        axes = axes.flatten()\n",
    "\n",
    "        for i, col in enumerate(group):\n",
    "            if plot_type == 'hist':\n",
    "                sns.histplot(data=dataframe[col], ax=axes[i])\n",
    "            elif plot_type == 'kde':\n",
    "                sns.kdeplot(data=dataframe[col], ax=axes[i])\n",
    "            elif plot_type == 'box':\n",
    "                sns.boxplot(data=dataframe[col], ax=axes[i])\n",
    "            else:\n",
    "                print(\"Geçersiz grafik türü. Lütfen 'hist', 'kde', veya 'box' olarak belirtin.\")\n",
    "                return\n",
    "            axes[i].set_xlabel(col)\n",
    "\n",
    "        for j in range(len(group), num_rows * 3):\n",
    "            fig.delaxes(axes[j])\n",
    "\n",
    "        plt.tight_layout()\n",
    "        plt.show()\n",
    "        \n",
    "plot_numerical_col(df, num_cols)"
   ]
  },
  {
   "cell_type": "code",
   "execution_count": null,
   "id": "32df77c6",
   "metadata": {},
   "outputs": [],
   "source": [
    "def plot_categoric_col(dataframe, cat_cols):\n",
    "    cat_cols_count = len(cat_cols)\n",
    "    cat_rows = cat_cols_count // 3\n",
    "    cat_rows += 1 if cat_cols_count % 3 != 0 else 0  # Eğer sütun sayısı 3'e tam bölünmüyorsa bir ek satır oluştur.\n",
    "\n",
    "    fig, axes = plt.subplots(cat_rows, 3, figsize=(10, 10), squeeze=True)\n",
    "    axes = axes.flatten()\n",
    "\n",
    "    for i, col in enumerate(cat_cols):\n",
    "        sns.countplot(data=dataframe, x=col, ax=axes[i], order=dataframe[col].value_counts().index)\n",
    "        axes[i].set_xlabel(col)\n",
    "\n",
    "    plt.tight_layout()\n",
    "    plt.show()\n",
    "\n",
    "plot_categoric_col(df, cat_cols=cat_cols)"
   ]
  },
  {
   "cell_type": "code",
   "execution_count": null,
   "id": "77f947a9",
   "metadata": {},
   "outputs": [],
   "source": [
    "sizes = [df.churn[df['churn']==1].count(), df.churn[df['churn']==0].count()]\n",
    "labels = ['Churned', 'Not Churned']\n",
    "colors = ['red', 'orange']\n",
    "\n",
    "plt.pie(sizes, labels=labels, autopct='%.2f%%', colors=colors)\n",
    "plt.legend(loc='upper left')\n",
    "plt.title(\"Churned VS Not Churned\", size=10)\n",
    "plt.show()"
   ]
  },
  {
   "cell_type": "markdown",
   "id": "1d4d7de0",
   "metadata": {},
   "source": [
    "# Feature Engineering"
   ]
  },
  {
   "cell_type": "code",
   "execution_count": null,
   "id": "3bb4a6d7",
   "metadata": {},
   "outputs": [],
   "source": [
    "df.loc[df['products_number'] == 4, 'products_number'] = 3\n",
    "\n",
    "\n",
    "df['credit_score_seg'] = pd.cut(df['credit_score'], bins=[349, 500, 590, 620, 660, 690, 720, np.inf],\n",
    "                                labels=['A', 'B', 'C', 'D', 'E', 'F', 'G'])\n",
    "\n",
    "df['balance_seg'] = pd.cut(df['balance'], bins=[-1, 50000, 90000, 127000, np.inf],\n",
    "                           labels=['A', 'B', 'C', 'D'])\n",
    "\n",
    "df['age_seg'] = pd.cut(df['age'], bins=[17, 36, 55, np.inf],\n",
    "                       labels=['A', 'B', 'C'])\n",
    "\n",
    "df['tenure_seg'] = pd.cut(df['tenure'], bins=[-1, 3, 5, 7, np.inf],\n",
    "                          labels=['A', 'B', 'C', 'D'])\n",
    "\n",
    "df_final = df.drop('customer_id', axis=1)"
   ]
  },
  {
   "cell_type": "code",
   "execution_count": null,
   "id": "1952d038",
   "metadata": {},
   "outputs": [],
   "source": [
    "def one_hot_encoder(dataframe, categorical_cols, drop_first=True):\n",
    "    dataframe = pd.get_dummies(dataframe, columns=categorical_cols, drop_first=drop_first, dtype=int)\n",
    "    return dataframe\n",
    "\n",
    "def label_encoder(dataframe, binary_col, info=False):\n",
    "    labelencoder = LabelEncoder()\n",
    "\n",
    "    dataframe[binary_col] = labelencoder.fit_transform(dataframe[binary_col])\n",
    "    if info:\n",
    "        d1, d2 = labelencoder.inverse_transform([0, 1])\n",
    "        print(f'{binary_col}\\n0:{d1}, 1:{d2}')\n",
    "    return dataframe"
   ]
  },
  {
   "cell_type": "code",
   "execution_count": null,
   "id": "fcf45248",
   "metadata": {},
   "outputs": [],
   "source": [
    "df_final = one_hot_encoder(df_final, ['country', 'gender','age_seg'], drop_first=True)\n",
    "\n",
    "label_encoder(df_final, 'credit_score_seg')\n",
    "label_encoder(df_final, 'balance_seg')\n",
    "label_encoder(df_final, 'tenure_seg')"
   ]
  },
  {
   "cell_type": "markdown",
   "id": "d417f768",
   "metadata": {},
   "source": [
    "# Modeling"
   ]
  },
  {
   "cell_type": "code",
   "execution_count": null,
   "id": "07a78c79",
   "metadata": {},
   "outputs": [],
   "source": [
    "y = df_final['churn']\n",
    "X = df_final.drop(columns=['churn'], axis=1)"
   ]
  },
  {
   "cell_type": "markdown",
   "id": "0d2a0943",
   "metadata": {},
   "source": [
    "# No Smote:"
   ]
  },
  {
   "cell_type": "code",
   "execution_count": null,
   "id": "6fe64f32",
   "metadata": {},
   "outputs": [],
   "source": [
    "model = LGBMClassifier(verbose=-1).fit(X, y)\n",
    "cv_results = cross_validate(model, X, y, cv=3, scoring=[\"accuracy\", \"f1\", \"roc_auc\"])\n",
    "f1 = cv_results['test_f1'].mean()\n",
    "auc = cv_results['test_roc_auc'].mean()\n",
    "accuracy = cv_results['test_accuracy'].mean()\n",
    "print(f'f1: {f1:.2f}')\n",
    "print(f'auc: {auc:.2f}')\n",
    "print(f'accuracy: {accuracy:.2f}')"
   ]
  },
  {
   "cell_type": "markdown",
   "id": "5f06a41d",
   "metadata": {},
   "source": [
    "Hyperparameter Optimazation"
   ]
  },
  {
   "cell_type": "code",
   "execution_count": null,
   "id": "2f39199e",
   "metadata": {},
   "outputs": [],
   "source": [
    "lightgbm_params = {\"learning_rate\": [0.01, 0.1],\n",
    "                   \"n_estimators\": [300, 500]}\n",
    "\n",
    "gs_best = GridSearchCV(model, lightgbm_params, cv=3, n_jobs=-1, verbose=False).fit(X, y)\n",
    "final_model = model.set_params(**gs_best.best_params_)\n",
    "\n",
    "cv_results = cross_validate(final_model, X, y, cv=3, scoring=['accuracy', 'f1', 'roc_auc'])\n",
    "f1 = cv_results['test_f1'].mean()\n",
    "auc = cv_results['test_roc_auc'].mean()\n",
    "accuracy = cv_results['test_accuracy'].mean()\n",
    "\n",
    "print(f'f1: {f1:.2f}')\n",
    "print(f'auc: {auc:.2f}')\n",
    "print(f'accuracy: {accuracy:.2f}')"
   ]
  },
  {
   "cell_type": "markdown",
   "id": "5edf1dec",
   "metadata": {},
   "source": [
    "# FEATURE IMPORTANCE"
   ]
  },
  {
   "cell_type": "code",
   "execution_count": null,
   "id": "395bedfb",
   "metadata": {},
   "outputs": [],
   "source": [
    "def plot_importance(model, features, num=len(X), save=False):\n",
    "    feature_imp = pd.DataFrame({'Value': model.feature_importances_, 'Feature': features.columns})\n",
    "    plt.figure(figsize=(10, 10))\n",
    "    sns.set(font_scale=1)\n",
    "    sns.barplot(x=\"Value\", y=\"Feature\", data=feature_imp.sort_values(by=\"Value\",\n",
    "                                                                     ascending=False)[0:num])\n",
    "    plt.title('Features')\n",
    "    plt.tight_layout()\n",
    "    plt.show()\n",
    "    if save:\n",
    "        plt.savefig('importances.png')\n",
    "\n",
    "\n",
    "plot_importance(model, X)"
   ]
  },
  {
   "cell_type": "markdown",
   "id": "ca6958ad",
   "metadata": {},
   "source": [
    "# With Smote:"
   ]
  },
  {
   "cell_type": "code",
   "execution_count": null,
   "id": "d4a7860e",
   "metadata": {},
   "outputs": [],
   "source": [
    "oversample = SMOTE()\n",
    "X_smote, y_smote = oversample.fit_resample(X, y)\n",
    "\n",
    "model = LGBMClassifier(verbose=-1).fit(X_smote, y_smote)\n",
    "cv_results = cross_validate(model, X_smote, y_smote, cv=3, scoring=[\"accuracy\", \"f1\", \"roc_auc\"])\n",
    "f1 = cv_results['test_f1'].mean()\n",
    "auc = cv_results['test_roc_auc'].mean()\n",
    "accuracy = cv_results['test_accuracy'].mean()\n",
    "print(f'f1: {f1:.2f}')\n",
    "print(f'auc: {auc:.2f}')\n",
    "print(f'accuracy: {accuracy:.2f}')\n"
   ]
  },
  {
   "cell_type": "markdown",
   "id": "5ca22254",
   "metadata": {},
   "source": [
    "Hyperparameter Optimization"
   ]
  },
  {
   "cell_type": "code",
   "execution_count": null,
   "id": "a774993c",
   "metadata": {},
   "outputs": [],
   "source": [
    "lightgbm_params = {\"learning_rate\": [0.01, 0.1],\n",
    "                   \"n_estimators\": [300, 500]}\n",
    "\n",
    "gs_best = GridSearchCV(model, lightgbm_params, cv=3, n_jobs=-1, verbose=False).fit(X_smote, y_smote)\n",
    "final_model = model.set_params(**gs_best.best_params_)\n",
    "\n",
    "cv_results = cross_validate(final_model, X_smote, y_smote, cv=3, scoring=['accuracy', 'f1', 'roc_auc'])\n",
    "f1 = cv_results['test_f1'].mean()\n",
    "auc = cv_results['test_roc_auc'].mean()\n",
    "accuracy = cv_results['test_accuracy'].mean()\n",
    "\n",
    "print(f'f1: {f1:.2f}')\n",
    "print(f'auc: {auc:.2f}')\n",
    "print(f'accuracy: {accuracy:.2f}')"
   ]
  },
  {
   "cell_type": "markdown",
   "id": "58ef9d56",
   "metadata": {},
   "source": [
    "Feature Importance"
   ]
  },
  {
   "cell_type": "code",
   "execution_count": null,
   "id": "417f399a",
   "metadata": {},
   "outputs": [],
   "source": [
    "def plot_importance(model, features, num=len(X), save=False):\n",
    "    feature_imp = pd.DataFrame({'Value': model.feature_importances_, 'Feature': features.columns})\n",
    "    plt.figure(figsize=(10, 10))\n",
    "    sns.set(font_scale=1)\n",
    "    sns.barplot(x=\"Value\", y=\"Feature\", data=feature_imp.sort_values(by=\"Value\",\n",
    "                                                                     ascending=False)[0:num])\n",
    "    plt.title('Features')\n",
    "    plt.tight_layout()\n",
    "    plt.show()\n",
    "    if save:\n",
    "        plt.savefig('importances.png')\n",
    "\n",
    "\n",
    "plot_importance(model, X_smote)"
   ]
  },
  {
   "cell_type": "code",
   "execution_count": null,
   "id": "46a98aed",
   "metadata": {},
   "outputs": [],
   "source": []
  }
 ],
 "metadata": {
  "kernelspec": {
   "display_name": "Python 3 (ipykernel)",
   "language": "python",
   "name": "python3"
  },
  "language_info": {
   "codemirror_mode": {
    "name": "ipython",
    "version": 3
   },
   "file_extension": ".py",
   "mimetype": "text/x-python",
   "name": "python",
   "nbconvert_exporter": "python",
   "pygments_lexer": "ipython3",
   "version": "3.11.5"
  }
 },
 "nbformat": 4,
 "nbformat_minor": 5
}
